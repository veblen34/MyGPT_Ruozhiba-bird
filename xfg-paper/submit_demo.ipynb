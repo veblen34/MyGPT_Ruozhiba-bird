{
 "cells": [
  {
   "cell_type": "markdown",
   "id": "f9bd6e39-ede7-4375-b5c6-67cadea12e93",
   "metadata": {},
   "source": [
    "# 微调大模型:ChatGLM3-6B 进行二分类任务"
   ]
  },
  {
   "cell_type": "markdown",
   "id": "4c51c09f-f527-43c9-a8b5-e2f874706003",
   "metadata": {},
   "source": [
    "## 导入数据"
   ]
  },
  {
   "cell_type": "code",
   "execution_count": 1,
   "id": "bb645733",
   "metadata": {
    "tags": []
   },
   "outputs": [],
   "source": [
    "import pandas as pd\n",
    "from sklearn.model_selection import train_test_split"
   ]
  },
  {
   "cell_type": "code",
   "execution_count": 2,
   "id": "b1248555",
   "metadata": {
    "ExecutionIndicator": {
     "show": true
    },
    "tags": []
   },
   "outputs": [],
   "source": [
    "train_df = pd.read_csv('./csv_data/train.csv')\n",
    "testB_df = pd.read_csv('./csv_data/testB.csv')"
   ]
  },
  {
   "cell_type": "markdown",
   "id": "f50fe438-88f2-4506-b738-c86fa54c0e4e",
   "metadata": {},
   "source": [
    "## 制作数据集"
   ]
  },
  {
   "cell_type": "code",
   "execution_count": 4,
   "id": "a69b8730",
   "metadata": {
    "ExecutionIndicator": {
     "show": true
    },
    "tags": []
   },
   "outputs": [],
   "source": [
    "res = []\n",
    "\n",
    "for i in range(len(train_df)):\n",
    "    paper_item = train_df.loc[i]\n",
    "    tmp = {\n",
    "    \"instruction\": \"Please judge whether it is a medical field paper according to the given paper title and abstract, output 1 or 0, the following is the paper title and abstract -->\",\n",
    "    \"input\": f\"title:{paper_item[1]},abstract:{paper_item[3]}\",\n",
    "    \"output\": str(paper_item[5])\n",
    "  }\n",
    "    res.append(tmp)"
   ]
  },
  {
   "cell_type": "code",
   "execution_count": null,
   "id": "ba3b5176",
   "metadata": {
    "ExecutionIndicator": {
     "show": true
    },
    "tags": []
   },
   "outputs": [],
   "source": [
    "import json\n",
    "\n",
    "with open('./data/paper_label.json', mode='w', encoding='utf-8') as f:\n",
    "    json.dump(res, f, ensure_ascii=False, indent=4)"
   ]
  },
  {
   "cell_type": "markdown",
   "id": "07e082ca-8039-418b-a294-e2eda89d3c1b",
   "metadata": {},
   "source": [
    "## 加载训练好的LoRA权重，进行预测"
   ]
  },
  {
   "cell_type": "code",
   "execution_count": 4,
   "id": "18c992d2-bdd4-4a80-9532-6497682983ea",
   "metadata": {
    "ExecutionIndicator": {
     "show": true
    },
    "tags": []
   },
   "outputs": [
    {
     "data": {
      "application/vnd.jupyter.widget-view+json": {
       "model_id": "948bf37a44a74981825cc1bbf8fae0fb",
       "version_major": 2,
       "version_minor": 0
      },
      "text/plain": [
       "Loading checkpoint shards:   0%|          | 0/7 [00:00<?, ?it/s]"
      ]
     },
     "metadata": {},
     "output_type": "display_data"
    },
    {
     "name": "stderr",
     "output_type": "stream",
     "text": [
      "Setting eos_token is not supported, use the default one.\n",
      "Setting pad_token is not supported, use the default one.\n",
      "Setting unk_token is not supported, use the default one.\n"
     ]
    },
    {
     "data": {
      "text/plain": [
       "'你好👋！我是人工智能助手 ChatGLM3-6B，很高兴见到你，欢迎问我任何问题。'"
      ]
     },
     "execution_count": 4,
     "metadata": {},
     "output_type": "execute_result"
    }
   ],
   "source": [
    "from peft import PeftModel\n",
    "from transformers import AutoTokenizer, AutoModel, GenerationConfig, AutoModelForCausalLM\n",
    "\n",
    "model_path = \"../ZhipuAI/chatglm3-6b\"\n",
    "model = AutoModel.from_pretrained(model_path, trust_remote_code=True).half().cuda()\n",
    "tokenizer = AutoTokenizer.from_pretrained(model_path, trust_remote_code=True)\n",
    "# 加载 label lora权重\n",
    "model = PeftModel.from_pretrained(model, './output/label_xfg').half()\n",
    "model = model.eval()\n",
    "response, history = model.chat(tokenizer, \"你好\", history=[])\n",
    "response"
   ]
  },
  {
   "cell_type": "code",
   "execution_count": 5,
   "id": "af5bb46b-4f17-4925-a8cb-959411bd9287",
   "metadata": {
    "ExecutionIndicator": {
     "show": true
    },
    "tags": []
   },
   "outputs": [],
   "source": [
    "# 预测函数\n",
    "\n",
    "def predict(text):\n",
    "    response, history = model.chat(tokenizer, f\"Please judge whether it is a medical field paper according to the given paper title and abstract, output 1 or 0, the following is the paper title, author and abstract -->{text}\", history=[],\n",
    "    temperature=0.01)\n",
    "    return response"
   ]
  },
  {
   "cell_type": "code",
   "execution_count": 6,
   "id": "9be0c2fe-0538-4675-8c68-a7b56dd4f351",
   "metadata": {
    "ExecutionIndicator": {
     "show": true
    },
    "tags": []
   },
   "outputs": [
    {
     "data": {
      "text/plain": [
       "'1'"
      ]
     },
     "execution_count": 6,
     "metadata": {},
     "output_type": "execute_result"
    }
   ],
   "source": [
    "predict('title:Seizure Detection and Prediction by Parallel Memristive Convolutional Neural Networks,author:Li, Chenqi; Lammie, Corey; Dong, Xuening; Amirsoleimani, Amirali; Azghadi, Mostafa Rahimi; Genov, Roman,abstract:During the past two decades, epileptic seizure detection and prediction algorithms have evolved rapidly. However, despite significant performance improvements, their hardware implementation using conventional technologies, such as Complementary Metal-Oxide-Semiconductor (CMOS), in power and areaconstrained settings remains a challenging task; especially when many recording channels are used. In this paper, we propose a novel low-latency parallel Convolutional Neural Network (CNN) architecture that has between 2-2,800x fewer network parameters compared to State-Of-The-Art (SOTA) CNN architectures and achieves 5-fold cross validation accuracy of 99.84% for epileptic seizure detection, and 99.01% and 97.54% for epileptic seizure prediction, when evaluated using the University of Bonn Electroencephalogram (EEG), CHB-MIT and SWEC-ETHZ seizure datasets, respectively. We subsequently implement our network onto analog crossbar arrays comprising Resistive Random-Access Memory (RRAM) devices, and provide a comprehensive benchmark by simulating, laying out, and determining hardware requirements of theCNNcomponent of our system. We parallelize the execution of convolution layer kernels on separate analog crossbars to enable 2 orders of magnitude reduction in latency compared to SOTA hybrid Memristive-CMOS Deep Learning (DL) accelerators. Furthermore, we investigate the effects of non-idealities on our system and investigate Quantization Aware Training (QAT) to mitigate the performance degradation due to lowAnalog-to-Digital Converter (ADC)/Digital-to-Analog Converter (DAC) resolution. Finally, we propose a stuck weight offsetting methodology to mitigate performance degradation due to stuck RON/ROFF memristor weights, recovering up to 32% accuracy, without requiring retraining. The CNN component of our platform is estimated to consume approximately 2.791Wof power while occupying an area of 31.255 mm(2) in a 22 nm FDSOI CMOS process.')"
   ]
  },
  {
   "cell_type": "code",
   "execution_count": 7,
   "id": "f2c162f5-5147-4e2f-b1d5-bebe0a4b2343",
   "metadata": {
    "tags": []
   },
   "outputs": [],
   "source": [
    "x = train_df.drop('label',axis = 1)\n",
    "y = train_df['label']"
   ]
  },
  {
   "cell_type": "code",
   "execution_count": 8,
   "id": "73eb9bb7-4352-4421-9edd-683fd7efb7a5",
   "metadata": {
    "tags": []
   },
   "outputs": [],
   "source": [
    "x_train,x_test,y_train,y_test = train_test_split(x,y,stratify=y, train_size=0.7) #30%为测试集，则70%为训练集"
   ]
  },
  {
   "cell_type": "code",
   "execution_count": 9,
   "id": "facc2fe1-fb75-4246-af65-d642fa5701c3",
   "metadata": {
    "ExecutionIndicator": {
     "show": true
    },
    "tags": []
   },
   "outputs": [
    {
     "name": "stderr",
     "output_type": "stream",
     "text": [
      "100%|██████████| 6000/6000 [12:04<00:00,  8.29it/s]\n"
     ]
    }
   ],
   "source": [
    "# 预测测试集\n",
    "\n",
    "from tqdm import tqdm\n",
    "\n",
    "label = []\n",
    "\n",
    "for i in tqdm(range(len(x))):\n",
    "    test_item = x.loc[i]\n",
    "    test_input = f\"title:{test_item[1]},author:{test_item[2]},abstract:{test_item[3]}\"\n",
    "    label.append(int(predict(test_input)))\n"
   ]
  },
  {
   "cell_type": "code",
   "execution_count": 12,
   "id": "82f71265-0ba1-41d6-8da3-ea15fa769d6e",
   "metadata": {
    "tags": []
   },
   "outputs": [
    {
     "name": "stdout",
     "output_type": "stream",
     "text": [
      "Confusion Matrix:\n",
      "[[3024   55]\n",
      " [  25 2896]]\n",
      "Classification Report:\n",
      "              precision    recall  f1-score   support\n",
      "\n",
      "           0       0.99      0.98      0.99      3079\n",
      "           1       0.98      0.99      0.99      2921\n",
      "\n",
      "    accuracy                           0.99      6000\n",
      "   macro avg       0.99      0.99      0.99      6000\n",
      "weighted avg       0.99      0.99      0.99      6000\n",
      "\n",
      "Accuracy:\n",
      "0.9866666666666667\n"
     ]
    }
   ],
   "source": [
    "#验证代码正确性并输出结果\n",
    "from sklearn.metrics import confusion_matrix\n",
    "from sklearn.metrics import classification_report\n",
    "from sklearn.metrics import accuracy_score\n",
    "\n",
    "print(\"Confusion Matrix:\")\n",
    "print(confusion_matrix(y, label))  # 输出混淆矩阵\n",
    "print(\"Classification Report:\")\n",
    "print(classification_report(y, label))  # 输出分类报告\n",
    "print(\"Accuracy:\") #输出精度\n",
    "print(accuracy_score(y, label))"
   ]
  },
  {
   "cell_type": "code",
   "execution_count": 18,
   "id": "ff9a523e-8758-4803-ae51-41efeda2a44c",
   "metadata": {
    "tags": []
   },
   "outputs": [],
   "source": [
    "from sklearn.metrics import roc_curve, auc\n",
    "import matplotlib.pyplot as plt"
   ]
  },
  {
   "cell_type": "code",
   "execution_count": 19,
   "id": "482b247b-8fdc-4e27-a6ec-bed362b04feb",
   "metadata": {
    "tags": []
   },
   "outputs": [],
   "source": [
    "fpr, tpr, _ = roc_curve(y, label)  # 计算ROC曲线\n",
    "roc_auc = auc(fpr, tpr)  # 计算AUC值"
   ]
  },
  {
   "cell_type": "code",
   "execution_count": 21,
   "id": "879850bf-856f-4f78-8953-8a577b86a3fb",
   "metadata": {
    "tags": []
   },
   "outputs": [
    {
     "data": {
      "image/png": "[encoded data removed]",
      "text/plain": [
       "<Figure size 640x480 with 1 Axes>"
      ]
     },
     "metadata": {},
     "output_type": "display_data"
    }
   ],
   "source": [
    "plt.figure()\n",
    "lw = 2\n",
    "plt.plot(fpr, tpr, color='darkorange', lw=lw, label='ROC curve (area = %0.2f)' % roc_auc)  # 画出ROC曲线\n",
    "plt.plot([0, 1], [0, 1], color='navy', lw=lw, linestyle='--')  # 画出随机分类器的ROC曲线\n",
    "plt.xlim([0.0, 1.0])\n",
    "plt.ylim([0.0, 1.0])\n",
    "plt.xlabel('False Positive Rate')\n",
    "plt.ylabel('True Positive Rate')\n",
    "plt.title('Receiver Operating Characteristic example')\n",
    "plt.legend(loc=\"lower right\")\n",
    "plt.show()"
   ]
  },
  {
   "cell_type": "code",
   "execution_count": null,
   "id": "c88ad359-126c-4974-abc2-dac53bf45591",
   "metadata": {},
   "outputs": [],
   "source": []
  }
 ],
 "metadata": {
  "kernelspec": {
   "display_name": "Python 3 (ipykernel)",
   "language": "python",
   "name": "python3"
  },
  "language_info": {
   "codemirror_mode": {
    "name": "ipython",
    "version": 3
   },
   "file_extension": ".py",
   "mimetype": "text/x-python",
   "name": "python",
   "nbconvert_exporter": "python",
   "pygments_lexer": "ipython3",
   "version": "3.8.10"
  }
 },
 "nbformat": 4,
 "nbformat_minor": 5
}
